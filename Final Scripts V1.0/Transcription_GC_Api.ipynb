{
 "cells": [
  {
   "cell_type": "code",
   "execution_count": 8,
   "metadata": {},
   "outputs": [],
   "source": [
    "import os\n",
    "from google.cloud import speech_v1p1beta1 as s\n",
    "\n",
    "# Google cloud credentials required...\n",
    "os.environ[\"GOOGLE_APPLICATION_CREDENTIALS\"] = \"C:/Users/shrey/Desktop/Python/NLP Stuff/mystic-curve-347816-dbe40fff812f.json\""
   ]
  },
  {
   "cell_type": "code",
   "execution_count": 9,
   "metadata": {},
   "outputs": [],
   "source": [
    "client = s.SpeechClient()"
   ]
  },
  {
   "cell_type": "code",
   "execution_count": 10,
   "metadata": {},
   "outputs": [],
   "source": [
    "# import wave\n",
    "# import math\n",
    "# import contextlib\n",
    "# import speech_recognition as sr\n",
    "from moviepy.editor import AudioFileClip"
   ]
  },
  {
   "cell_type": "code",
   "execution_count": 11,
   "metadata": {},
   "outputs": [],
   "source": [
    "transcribed_audio_file = \"transcribed_speech_Demo.mp3\"\n",
    "# Currently hard coded, pass the path of the file as required here...\n",
    "video_file = \"Ayush - Ayush Sharma (West Central Sales).mp4\"\n"
   ]
  },
  {
   "cell_type": "code",
   "execution_count": 12,
   "metadata": {},
   "outputs": [
    {
     "name": "stdout",
     "output_type": "stream",
     "text": [
      "MoviePy - Writing audio in transcribed_speech_Demo.mp3\n"
     ]
    },
    {
     "name": "stderr",
     "output_type": "stream",
     "text": [
      "                                                                        "
     ]
    },
    {
     "name": "stdout",
     "output_type": "stream",
     "text": [
      "MoviePy - Done.\n"
     ]
    },
    {
     "name": "stderr",
     "output_type": "stream",
     "text": [
      "\r"
     ]
    }
   ],
   "source": [
    "# extracts audio from the video file...\n",
    "audioclip = AudioFileClip(video_file)\n",
    "audioclip.write_audiofile(transcribed_audio_file)"
   ]
  },
  {
   "cell_type": "code",
   "execution_count": 13,
   "metadata": {},
   "outputs": [],
   "source": [
    "# Local media files... Size < 10 mb; Length < 1 min\n",
    "# Media files loaded here...\n",
    "speech_file = \"transcribed_speech_Demo.mp3\"\n",
    "with open(speech_file,\"rb\") as f:\n",
    "    byte_data_wav = f.read()\n",
    "audio_wav = s.RecognitionAudio(content = byte_data_wav)"
   ]
  },
  {
   "cell_type": "code",
   "execution_count": 14,
   "metadata": {},
   "outputs": [],
   "source": [
    "# Configure media file output...\n",
    "config_wav = s.RecognitionConfig(sample_rate_hertz = 44100, enable_automatic_punctuation = True, language_code = \"en\", audio_channel_count = 2)"
   ]
  },
  {
   "cell_type": "code",
   "execution_count": 15,
   "metadata": {},
   "outputs": [
    {
     "ename": "InvalidArgument",
     "evalue": "400 Request payload size exceeds the limit: 10485760 bytes.",
     "output_type": "error",
     "traceback": [
      "\u001b[1;31m---------------------------------------------------------------------------\u001b[0m",
      "\u001b[1;31m_InactiveRpcError\u001b[0m                         Traceback (most recent call last)",
      "File \u001b[1;32mC:\\Python310\\lib\\site-packages\\google\\api_core\\grpc_helpers.py:57\u001b[0m, in \u001b[0;36m_wrap_unary_errors.<locals>.error_remapped_callable\u001b[1;34m(*args, **kwargs)\u001b[0m\n\u001b[0;32m     <a href='file:///c%3A/Python310/lib/site-packages/google/api_core/grpc_helpers.py?line=55'>56</a>\u001b[0m \u001b[39mtry\u001b[39;00m:\n\u001b[1;32m---> <a href='file:///c%3A/Python310/lib/site-packages/google/api_core/grpc_helpers.py?line=56'>57</a>\u001b[0m     \u001b[39mreturn\u001b[39;00m callable_(\u001b[39m*\u001b[39margs, \u001b[39m*\u001b[39m\u001b[39m*\u001b[39mkwargs)\n\u001b[0;32m     <a href='file:///c%3A/Python310/lib/site-packages/google/api_core/grpc_helpers.py?line=57'>58</a>\u001b[0m \u001b[39mexcept\u001b[39;00m grpc\u001b[39m.\u001b[39mRpcError \u001b[39mas\u001b[39;00m exc:\n",
      "File \u001b[1;32mC:\\Python310\\lib\\site-packages\\grpc\\_channel.py:946\u001b[0m, in \u001b[0;36m_UnaryUnaryMultiCallable.__call__\u001b[1;34m(self, request, timeout, metadata, credentials, wait_for_ready, compression)\u001b[0m\n\u001b[0;32m    <a href='file:///c%3A/Python310/lib/site-packages/grpc/_channel.py?line=943'>944</a>\u001b[0m state, call, \u001b[39m=\u001b[39m \u001b[39mself\u001b[39m\u001b[39m.\u001b[39m_blocking(request, timeout, metadata, credentials,\n\u001b[0;32m    <a href='file:///c%3A/Python310/lib/site-packages/grpc/_channel.py?line=944'>945</a>\u001b[0m                               wait_for_ready, compression)\n\u001b[1;32m--> <a href='file:///c%3A/Python310/lib/site-packages/grpc/_channel.py?line=945'>946</a>\u001b[0m \u001b[39mreturn\u001b[39;00m _end_unary_response_blocking(state, call, \u001b[39mFalse\u001b[39;49;00m, \u001b[39mNone\u001b[39;49;00m)\n",
      "File \u001b[1;32mC:\\Python310\\lib\\site-packages\\grpc\\_channel.py:849\u001b[0m, in \u001b[0;36m_end_unary_response_blocking\u001b[1;34m(state, call, with_call, deadline)\u001b[0m\n\u001b[0;32m    <a href='file:///c%3A/Python310/lib/site-packages/grpc/_channel.py?line=847'>848</a>\u001b[0m \u001b[39melse\u001b[39;00m:\n\u001b[1;32m--> <a href='file:///c%3A/Python310/lib/site-packages/grpc/_channel.py?line=848'>849</a>\u001b[0m     \u001b[39mraise\u001b[39;00m _InactiveRpcError(state)\n",
      "\u001b[1;31m_InactiveRpcError\u001b[0m: <_InactiveRpcError of RPC that terminated with:\n\tstatus = StatusCode.INVALID_ARGUMENT\n\tdetails = \"Request payload size exceeds the limit: 10485760 bytes.\"\n\tdebug_error_string = \"{\"created\":\"@1650892336.296000000\",\"description\":\"Error received from peer ipv6:[2404:6800:4007:812::200a]:443\",\"file\":\"src/core/lib/surface/call.cc\",\"file_line\":904,\"grpc_message\":\"Request payload size exceeds the limit: 10485760 bytes.\",\"grpc_status\":3}\"\n>",
      "\nThe above exception was the direct cause of the following exception:\n",
      "\u001b[1;31mInvalidArgument\u001b[0m                           Traceback (most recent call last)",
      "\u001b[1;32mc:\\Users\\shrey\\Desktop\\Python\\NLP Stuff\\Transcription_GC_Api.ipynb Cell 8'\u001b[0m in \u001b[0;36m<cell line: 2>\u001b[1;34m()\u001b[0m\n\u001b[0;32m      <a href='vscode-notebook-cell:/c%3A/Users/shrey/Desktop/Python/NLP%20Stuff/Transcription_GC_Api.ipynb#ch0000007?line=0'>1</a>\u001b[0m \u001b[39m# transcribing the recognised audio objects...\u001b[39;00m\n\u001b[1;32m----> <a href='vscode-notebook-cell:/c%3A/Users/shrey/Desktop/Python/NLP%20Stuff/Transcription_GC_Api.ipynb#ch0000007?line=1'>2</a>\u001b[0m response_wav \u001b[39m=\u001b[39m client\u001b[39m.\u001b[39;49mrecognize(config \u001b[39m=\u001b[39;49m config_wav, audio \u001b[39m=\u001b[39;49m audio_wav)\n",
      "File \u001b[1;32mC:\\Python310\\lib\\site-packages\\google\\cloud\\speech_v1p1beta1\\services\\speech\\client.py:519\u001b[0m, in \u001b[0;36mSpeechClient.recognize\u001b[1;34m(self, request, config, audio, retry, timeout, metadata)\u001b[0m\n\u001b[0;32m    <a href='file:///c%3A/Python310/lib/site-packages/google/cloud/speech_v1p1beta1/services/speech/client.py?line=515'>516</a>\u001b[0m rpc \u001b[39m=\u001b[39m \u001b[39mself\u001b[39m\u001b[39m.\u001b[39m_transport\u001b[39m.\u001b[39m_wrapped_methods[\u001b[39mself\u001b[39m\u001b[39m.\u001b[39m_transport\u001b[39m.\u001b[39mrecognize]\n\u001b[0;32m    <a href='file:///c%3A/Python310/lib/site-packages/google/cloud/speech_v1p1beta1/services/speech/client.py?line=517'>518</a>\u001b[0m \u001b[39m# Send the request.\u001b[39;00m\n\u001b[1;32m--> <a href='file:///c%3A/Python310/lib/site-packages/google/cloud/speech_v1p1beta1/services/speech/client.py?line=518'>519</a>\u001b[0m response \u001b[39m=\u001b[39m rpc(request, retry\u001b[39m=\u001b[39;49mretry, timeout\u001b[39m=\u001b[39;49mtimeout, metadata\u001b[39m=\u001b[39;49mmetadata,)\n\u001b[0;32m    <a href='file:///c%3A/Python310/lib/site-packages/google/cloud/speech_v1p1beta1/services/speech/client.py?line=520'>521</a>\u001b[0m \u001b[39m# Done; return the response.\u001b[39;00m\n\u001b[0;32m    <a href='file:///c%3A/Python310/lib/site-packages/google/cloud/speech_v1p1beta1/services/speech/client.py?line=521'>522</a>\u001b[0m \u001b[39mreturn\u001b[39;00m response\n",
      "File \u001b[1;32mC:\\Python310\\lib\\site-packages\\google\\api_core\\gapic_v1\\method.py:154\u001b[0m, in \u001b[0;36m_GapicCallable.__call__\u001b[1;34m(self, timeout, retry, *args, **kwargs)\u001b[0m\n\u001b[0;32m    <a href='file:///c%3A/Python310/lib/site-packages/google/api_core/gapic_v1/method.py?line=150'>151</a>\u001b[0m     metadata\u001b[39m.\u001b[39mextend(\u001b[39mself\u001b[39m\u001b[39m.\u001b[39m_metadata)\n\u001b[0;32m    <a href='file:///c%3A/Python310/lib/site-packages/google/api_core/gapic_v1/method.py?line=151'>152</a>\u001b[0m     kwargs[\u001b[39m\"\u001b[39m\u001b[39mmetadata\u001b[39m\u001b[39m\"\u001b[39m] \u001b[39m=\u001b[39m metadata\n\u001b[1;32m--> <a href='file:///c%3A/Python310/lib/site-packages/google/api_core/gapic_v1/method.py?line=153'>154</a>\u001b[0m \u001b[39mreturn\u001b[39;00m wrapped_func(\u001b[39m*\u001b[39margs, \u001b[39m*\u001b[39m\u001b[39m*\u001b[39mkwargs)\n",
      "File \u001b[1;32mC:\\Python310\\lib\\site-packages\\google\\api_core\\retry.py:283\u001b[0m, in \u001b[0;36mRetry.__call__.<locals>.retry_wrapped_func\u001b[1;34m(*args, **kwargs)\u001b[0m\n\u001b[0;32m    <a href='file:///c%3A/Python310/lib/site-packages/google/api_core/retry.py?line=278'>279</a>\u001b[0m target \u001b[39m=\u001b[39m functools\u001b[39m.\u001b[39mpartial(func, \u001b[39m*\u001b[39margs, \u001b[39m*\u001b[39m\u001b[39m*\u001b[39mkwargs)\n\u001b[0;32m    <a href='file:///c%3A/Python310/lib/site-packages/google/api_core/retry.py?line=279'>280</a>\u001b[0m sleep_generator \u001b[39m=\u001b[39m exponential_sleep_generator(\n\u001b[0;32m    <a href='file:///c%3A/Python310/lib/site-packages/google/api_core/retry.py?line=280'>281</a>\u001b[0m     \u001b[39mself\u001b[39m\u001b[39m.\u001b[39m_initial, \u001b[39mself\u001b[39m\u001b[39m.\u001b[39m_maximum, multiplier\u001b[39m=\u001b[39m\u001b[39mself\u001b[39m\u001b[39m.\u001b[39m_multiplier\n\u001b[0;32m    <a href='file:///c%3A/Python310/lib/site-packages/google/api_core/retry.py?line=281'>282</a>\u001b[0m )\n\u001b[1;32m--> <a href='file:///c%3A/Python310/lib/site-packages/google/api_core/retry.py?line=282'>283</a>\u001b[0m \u001b[39mreturn\u001b[39;00m retry_target(\n\u001b[0;32m    <a href='file:///c%3A/Python310/lib/site-packages/google/api_core/retry.py?line=283'>284</a>\u001b[0m     target,\n\u001b[0;32m    <a href='file:///c%3A/Python310/lib/site-packages/google/api_core/retry.py?line=284'>285</a>\u001b[0m     \u001b[39mself\u001b[39;49m\u001b[39m.\u001b[39;49m_predicate,\n\u001b[0;32m    <a href='file:///c%3A/Python310/lib/site-packages/google/api_core/retry.py?line=285'>286</a>\u001b[0m     sleep_generator,\n\u001b[0;32m    <a href='file:///c%3A/Python310/lib/site-packages/google/api_core/retry.py?line=286'>287</a>\u001b[0m     \u001b[39mself\u001b[39;49m\u001b[39m.\u001b[39;49m_deadline,\n\u001b[0;32m    <a href='file:///c%3A/Python310/lib/site-packages/google/api_core/retry.py?line=287'>288</a>\u001b[0m     on_error\u001b[39m=\u001b[39;49mon_error,\n\u001b[0;32m    <a href='file:///c%3A/Python310/lib/site-packages/google/api_core/retry.py?line=288'>289</a>\u001b[0m )\n",
      "File \u001b[1;32mC:\\Python310\\lib\\site-packages\\google\\api_core\\retry.py:190\u001b[0m, in \u001b[0;36mretry_target\u001b[1;34m(target, predicate, sleep_generator, deadline, on_error)\u001b[0m\n\u001b[0;32m    <a href='file:///c%3A/Python310/lib/site-packages/google/api_core/retry.py?line=187'>188</a>\u001b[0m \u001b[39mfor\u001b[39;00m sleep \u001b[39min\u001b[39;00m sleep_generator:\n\u001b[0;32m    <a href='file:///c%3A/Python310/lib/site-packages/google/api_core/retry.py?line=188'>189</a>\u001b[0m     \u001b[39mtry\u001b[39;00m:\n\u001b[1;32m--> <a href='file:///c%3A/Python310/lib/site-packages/google/api_core/retry.py?line=189'>190</a>\u001b[0m         \u001b[39mreturn\u001b[39;00m target()\n\u001b[0;32m    <a href='file:///c%3A/Python310/lib/site-packages/google/api_core/retry.py?line=191'>192</a>\u001b[0m     \u001b[39m# pylint: disable=broad-except\u001b[39;00m\n\u001b[0;32m    <a href='file:///c%3A/Python310/lib/site-packages/google/api_core/retry.py?line=192'>193</a>\u001b[0m     \u001b[39m# This function explicitly must deal with broad exceptions.\u001b[39;00m\n\u001b[0;32m    <a href='file:///c%3A/Python310/lib/site-packages/google/api_core/retry.py?line=193'>194</a>\u001b[0m     \u001b[39mexcept\u001b[39;00m \u001b[39mException\u001b[39;00m \u001b[39mas\u001b[39;00m exc:\n",
      "File \u001b[1;32mC:\\Python310\\lib\\site-packages\\google\\api_core\\grpc_helpers.py:59\u001b[0m, in \u001b[0;36m_wrap_unary_errors.<locals>.error_remapped_callable\u001b[1;34m(*args, **kwargs)\u001b[0m\n\u001b[0;32m     <a href='file:///c%3A/Python310/lib/site-packages/google/api_core/grpc_helpers.py?line=56'>57</a>\u001b[0m     \u001b[39mreturn\u001b[39;00m callable_(\u001b[39m*\u001b[39margs, \u001b[39m*\u001b[39m\u001b[39m*\u001b[39mkwargs)\n\u001b[0;32m     <a href='file:///c%3A/Python310/lib/site-packages/google/api_core/grpc_helpers.py?line=57'>58</a>\u001b[0m \u001b[39mexcept\u001b[39;00m grpc\u001b[39m.\u001b[39mRpcError \u001b[39mas\u001b[39;00m exc:\n\u001b[1;32m---> <a href='file:///c%3A/Python310/lib/site-packages/google/api_core/grpc_helpers.py?line=58'>59</a>\u001b[0m     \u001b[39mraise\u001b[39;00m exceptions\u001b[39m.\u001b[39mfrom_grpc_error(exc) \u001b[39mfrom\u001b[39;00m \u001b[39mexc\u001b[39;00m\n",
      "\u001b[1;31mInvalidArgument\u001b[0m: 400 Request payload size exceeds the limit: 10485760 bytes."
     ]
    }
   ],
   "source": [
    "# transcribing the recognised audio objects...\n",
    "response_wav = client.recognize(config = config_wav, audio = audio_wav)"
   ]
  },
  {
   "cell_type": "code",
   "execution_count": null,
   "metadata": {},
   "outputs": [
    {
     "name": "stdout",
     "output_type": "stream",
     "text": [
      "Transcript: So if I'm the CEO of a company, the first three things of the business. I'll check after making a part. Number one, the stock prices of the day before and the opening stock prices of the business on the current day and its top trends of the industry in which a company belongs to. And after computers and also related business notes to keep track of the progress that the company has made compared to the object of study that we had been set. And the appointments and meetings that I'll be having fun today and I plan my schedule accordingly.\n"
     ]
    }
   ],
   "source": [
    "for result in response_wav.results:\n",
    "    print(u\"Transcript: {}\".format(result.alternatives[0].transcript))\n",
    "    f = open(\"transcription_demo.txt\", \"a\")\n",
    "    f.write(result.alternatives[0].transcript)\n",
    "    f.write(\" \")\n",
    "f.close()"
   ]
  }
 ],
 "metadata": {
  "interpreter": {
   "hash": "2be5faf79681da6f2a61fdfdd5405d65d042280f7fba6178067603e3a2925119"
  },
  "kernelspec": {
   "display_name": "Python 3.10.4 64-bit",
   "language": "python",
   "name": "python3"
  },
  "language_info": {
   "codemirror_mode": {
    "name": "ipython",
    "version": 3
   },
   "file_extension": ".py",
   "mimetype": "text/x-python",
   "name": "python",
   "nbconvert_exporter": "python",
   "pygments_lexer": "ipython3",
   "version": "3.10.4"
  },
  "orig_nbformat": 4
 },
 "nbformat": 4,
 "nbformat_minor": 2
}
